{
 "cells": [
  {
   "cell_type": "code",
   "execution_count": 444,
   "metadata": {},
   "outputs": [],
   "source": [
    "import pandas as pd"
   ]
  },
  {
   "cell_type": "markdown",
   "metadata": {},
   "source": [
    "# Load the Data"
   ]
  },
  {
   "cell_type": "code",
   "execution_count": 445,
   "metadata": {},
   "outputs": [
    {
     "data": {
      "text/html": [
       "<div>\n",
       "<style scoped>\n",
       "    .dataframe tbody tr th:only-of-type {\n",
       "        vertical-align: middle;\n",
       "    }\n",
       "\n",
       "    .dataframe tbody tr th {\n",
       "        vertical-align: top;\n",
       "    }\n",
       "\n",
       "    .dataframe thead th {\n",
       "        text-align: right;\n",
       "    }\n",
       "</style>\n",
       "<table border=\"1\" class=\"dataframe\">\n",
       "  <thead>\n",
       "    <tr style=\"text-align: right;\">\n",
       "      <th></th>\n",
       "      <th>class</th>\n",
       "      <th>complain</th>\n",
       "    </tr>\n",
       "  </thead>\n",
       "  <tbody>\n",
       "    <tr>\n",
       "      <th>0</th>\n",
       "      <td>Adult</td>\n",
       "      <td>The defendants recruited and maintained juveni...</td>\n",
       "    </tr>\n",
       "    <tr>\n",
       "      <th>1</th>\n",
       "      <td>Minor</td>\n",
       "      <td>The defendant forced three adult victims and o...</td>\n",
       "    </tr>\n",
       "    <tr>\n",
       "      <th>2</th>\n",
       "      <td>Notrelated</td>\n",
       "      <td>Create a rotating on call schedule dont keep w...</td>\n",
       "    </tr>\n",
       "    <tr>\n",
       "      <th>3</th>\n",
       "      <td>Adult</td>\n",
       "      <td>The defendants contacted young women predomina...</td>\n",
       "    </tr>\n",
       "    <tr>\n",
       "      <th>4</th>\n",
       "      <td>Minor</td>\n",
       "      <td>Lakireddy Bali Reddy the largest and wealthies...</td>\n",
       "    </tr>\n",
       "  </tbody>\n",
       "</table>\n",
       "</div>"
      ],
      "text/plain": [
       "        class                                           complain\n",
       "0       Adult  The defendants recruited and maintained juveni...\n",
       "1       Minor  The defendant forced three adult victims and o...\n",
       "2  Notrelated  Create a rotating on call schedule dont keep w...\n",
       "3       Adult  The defendants contacted young women predomina...\n",
       "4       Minor  Lakireddy Bali Reddy the largest and wealthies..."
      ]
     },
     "execution_count": 445,
     "metadata": {},
     "output_type": "execute_result"
    }
   ],
   "source": [
    "df = pd.read_csv('Data/all_data_masha.csv').drop(columns = 'Unnamed: 0')\n",
    "df.head()"
   ]
  },
  {
   "cell_type": "code",
   "execution_count": 446,
   "metadata": {},
   "outputs": [],
   "source": [
    "# data_positive = pd.read_csv('positive_combined.csv')\n",
    "# data_positive.head()"
   ]
  },
  {
   "cell_type": "code",
   "execution_count": 447,
   "metadata": {},
   "outputs": [],
   "source": [
    "# data_positive['class'] = 'not_related'\n",
    "# data_positive.head()"
   ]
  },
  {
   "cell_type": "code",
   "execution_count": 448,
   "metadata": {},
   "outputs": [],
   "source": [
    "# data_negative = pd.read_csv('case_files.csv')\n",
    "# data_negative.head()"
   ]
  },
  {
   "cell_type": "code",
   "execution_count": 449,
   "metadata": {},
   "outputs": [],
   "source": [
    "# data_negative_reduced = data_negative[['Case Type', 'Case Summary']]\n",
    "# data_negative_reduced = data_negative_reduced.rename(columns = {'Case Type': 'class', 'Case Summary':'complain'})\n",
    "# data_negative_reduced.head()"
   ]
  },
  {
   "cell_type": "code",
   "execution_count": 450,
   "metadata": {},
   "outputs": [],
   "source": [
    "# data_combined = pd.concat([data_negative_reduced,data_positive], axis = 0)\n",
    "# data_negative_reduced.shape, data_positive.shape, data_combined.shape"
   ]
  },
  {
   "cell_type": "code",
   "execution_count": 451,
   "metadata": {},
   "outputs": [],
   "source": [
    "# data_combined.head()"
   ]
  },
  {
   "cell_type": "code",
   "execution_count": 452,
   "metadata": {},
   "outputs": [],
   "source": [
    "# data_combined['class'].value_counts()"
   ]
  },
  {
   "cell_type": "code",
   "execution_count": 453,
   "metadata": {},
   "outputs": [],
   "source": [
    "data_combined = df"
   ]
  },
  {
   "cell_type": "code",
   "execution_count": 454,
   "metadata": {},
   "outputs": [
    {
     "data": {
      "text/plain": [
       "(1447, 2)"
      ]
     },
     "execution_count": 454,
     "metadata": {},
     "output_type": "execute_result"
    }
   ],
   "source": [
    "data_combined.shape"
   ]
  },
  {
   "cell_type": "code",
   "execution_count": 455,
   "metadata": {},
   "outputs": [
    {
     "data": {
      "text/plain": [
       "(1443, 2)"
      ]
     },
     "execution_count": 455,
     "metadata": {},
     "output_type": "execute_result"
    }
   ],
   "source": [
    "data_combined = data_combined.dropna().reset_index(drop = True)\n",
    "data_combined.shape"
   ]
  },
  {
   "cell_type": "code",
   "execution_count": 456,
   "metadata": {},
   "outputs": [],
   "source": [
    "data_combined.to_csv('Data/data_combined_pos_neg.csv', encoding='utf-8', index=False)\n"
   ]
  },
  {
   "cell_type": "markdown",
   "metadata": {},
   "source": [
    "# Modelling (validation purposes)\n",
    "Calculate similarclasses with tf-idf and cosine_similarity\n"
   ]
  },
  {
   "cell_type": "code",
   "execution_count": 457,
   "metadata": {},
   "outputs": [],
   "source": [
    "from sklearn.metrics.pairwise import linear_kernel, cosine_similarity\n",
    "import matplotlib.pyplot as plt\n",
    "from time import time\n",
    "from sklearn.feature_extraction.text import TfidfVectorizer, CountVectorizer\n",
    "import numpy as np"
   ]
  },
  {
   "cell_type": "code",
   "execution_count": 458,
   "metadata": {},
   "outputs": [],
   "source": [
    "#t = time()\n",
    "tf = TfidfVectorizer(analyzer='word',ngram_range=(1, 2),min_df=0, stop_words='english')\n",
    "tfidf_matrix = tf.fit_transform(data_combined['complain'])\n",
    "#print(time() - t)"
   ]
  },
  {
   "cell_type": "code",
   "execution_count": 459,
   "metadata": {},
   "outputs": [
    {
     "data": {
      "text/plain": [
       "(1443, 24302)"
      ]
     },
     "execution_count": 459,
     "metadata": {},
     "output_type": "execute_result"
    }
   ],
   "source": [
    "tfidf_matrix.shape"
   ]
  },
  {
   "cell_type": "code",
   "execution_count": 486,
   "metadata": {},
   "outputs": [],
   "source": [
    "#type your complain or load a file:\n",
    "text0 = 'I like sex with people and also being slave'\n",
    "\n",
    "text00 = 'Im a slave for you, I cannot hold it, I cannot control it Im a…'\n",
    "\n",
    "text1 = 'When my husband became very sick and couldn’t work, I used an employment agency to find me work abroad. I was sent to Qatar, but the family were cheating me, paying me less than agreed in my contract and refusing to give me a day off. I called the agency in the Philippines for help, but they never answered. I had to send money back home to pay for food, school fees and medicine. I fought with my employer about my salary, but he would say Your contract is just a piece of paper'\n",
    "\n",
    "text2 = 'I worked 12-hour shifts and finished every day at 6pm, the same time that the gang curfew in our city came into effect. There are two main gangs in the area, and anyone on the streets after the curfew becomes a target. Every day I thought might be my last. One evening, my co-worker and I were walking to the bus stop when three gang members stopped and said we’d have to sell sex and drugs for them. “We’re not asking you,” they said. “We’re giving you an order.” They let us go, but I was terrified. The next night after work, they were there, waiting for us. “Time’s up,” they said, and they forced us into a car at gunpoint'\n",
    "\n",
    "text3 = 'One of my friends in the village said he and a few others were leaving to find work. The next day we all got a taxi and headed for Thailand. We were met by a man who said we could work on his cassava farm, earning $130 (£99) a month each, with room and board included. We worked seven days a week, morning until night, for a month, until one evening a Thai man asked how much we were earning. He offered us $200 a month to work on a construction site, but said we’d have to move to Thailand We were confused. Weren’t we already in Thailand? It turned out we were still in Cambodia, and the farmer had already fled without giving us any wages. We were left with no choice but to accept the deal and smuggle ourselves over the border. The man said we’d be charged for being driven to the construction site, but that it could be deducted from our first month’s wages. It was a long, uncomfortable drive in a pickup, and when we finally stopped, we saw that we weren’t at a construction site, but a busy sea port. The broker said the building site had closed, so he’d arranged for us to work on a fishing boat instead'\n",
    "\n",
    "text4 = 'On paper I was a labourer but in reality I did not work as one. It was a place that raised pigs to support the People’s Army and shock brigades. It was supposed to raise pigs. But no one actually raised pigs there. There was no space to raise pigs there and no feed for them either. Since the labourers cannot work, they are required to pay a certain amount of money instead. Every month the labourers must give 2kg of pork to the management office.'\n",
    "\n",
    "text5 = 'We saw people return from Europe rich. A woman said she would give me work in a Nigerian restaurant in Italy. When I arrived I was told I had to pay back a £40,000 debt before I could leave. They said they would kill me if I didn’t work as a prostitute. The work was so dangerous. I was stabbed twice. I managed to leave, and now I work to help other women escape. These traffickers take everything from you – all that makes you human.'"
   ]
  },
  {
   "cell_type": "code",
   "execution_count": null,
   "metadata": {},
   "outputs": [],
   "source": []
  },
  {
   "cell_type": "code",
   "execution_count": 487,
   "metadata": {},
   "outputs": [],
   "source": [
    "def find_most_similar_situation(text,data_combined):\n",
    "    tf = TfidfVectorizer(analyzer='word',ngram_range=(1, 2),min_df=0, stop_words='english')\n",
    "    tfidf_matrix = tf.fit_transform(data_combined['complain'])\n",
    "\n",
    "    try:\n",
    "        complain_text = text\n",
    "\n",
    "    except NameError:\n",
    "        file_ = open(\"test_complaint.txt\",\"r\") \n",
    "        complain_text = file_.read()\n",
    "        file_.close()\n",
    "    \n",
    "    tfidf_cv_vector = tf.transform([complain_text])\n",
    "    tfidf_cv_vector.shape\n",
    "    \n",
    "    cosine_sim = cosine_similarity(tfidf_cv_vector, tfidf_matrix)\n",
    "    \n",
    "    n = 10\n",
    "    most_similar_situation =  data_combined.loc[np.argsort(-cosine_sim[0])[:n]]\n",
    "    \n",
    "    return most_similar_situation"
   ]
  },
  {
   "cell_type": "code",
   "execution_count": 488,
   "metadata": {},
   "outputs": [
    {
     "data": {
      "text/html": [
       "<div>\n",
       "<style scoped>\n",
       "    .dataframe tbody tr th:only-of-type {\n",
       "        vertical-align: middle;\n",
       "    }\n",
       "\n",
       "    .dataframe tbody tr th {\n",
       "        vertical-align: top;\n",
       "    }\n",
       "\n",
       "    .dataframe thead th {\n",
       "        text-align: right;\n",
       "    }\n",
       "</style>\n",
       "<table border=\"1\" class=\"dataframe\">\n",
       "  <thead>\n",
       "    <tr style=\"text-align: right;\">\n",
       "      <th></th>\n",
       "      <th>class</th>\n",
       "      <th>complain</th>\n",
       "    </tr>\n",
       "  </thead>\n",
       "  <tbody>\n",
       "    <tr>\n",
       "      <th>1429</th>\n",
       "      <td>Notrelated</td>\n",
       "      <td>No health benefits and some people dont leave ...</td>\n",
       "    </tr>\n",
       "    <tr>\n",
       "      <th>278</th>\n",
       "      <td>Notrelated</td>\n",
       "      <td>Low hourly pay pretty much across the board fo...</td>\n",
       "    </tr>\n",
       "    <tr>\n",
       "      <th>491</th>\n",
       "      <td>Minor</td>\n",
       "      <td>Defendants forced a 14 year old immigrant from...</td>\n",
       "    </tr>\n",
       "    <tr>\n",
       "      <th>1039</th>\n",
       "      <td>Minor</td>\n",
       "      <td>Defendants forced a 14 year old immigrant from...</td>\n",
       "    </tr>\n",
       "    <tr>\n",
       "      <th>644</th>\n",
       "      <td>Minor</td>\n",
       "      <td>Victim ran away from home and was recruited by...</td>\n",
       "    </tr>\n",
       "    <tr>\n",
       "      <th>780</th>\n",
       "      <td>Labor</td>\n",
       "      <td>The defendants used a Mexican women and a Sri ...</td>\n",
       "    </tr>\n",
       "    <tr>\n",
       "      <th>568</th>\n",
       "      <td>Labor</td>\n",
       "      <td>Coleman Ghanas deputy minister of finance recr...</td>\n",
       "    </tr>\n",
       "    <tr>\n",
       "      <th>635</th>\n",
       "      <td>Labor</td>\n",
       "      <td>I started working 24 hours straight and was ge...</td>\n",
       "    </tr>\n",
       "    <tr>\n",
       "      <th>1287</th>\n",
       "      <td>Notrelated</td>\n",
       "      <td>Work life balance is OK but not great Im sorry...</td>\n",
       "    </tr>\n",
       "    <tr>\n",
       "      <th>558</th>\n",
       "      <td>Notrelated</td>\n",
       "      <td>stressbad managersmean and rude people  they w...</td>\n",
       "    </tr>\n",
       "  </tbody>\n",
       "</table>\n",
       "</div>"
      ],
      "text/plain": [
       "           class                                           complain\n",
       "1429  Notrelated  No health benefits and some people dont leave ...\n",
       "278   Notrelated  Low hourly pay pretty much across the board fo...\n",
       "491        Minor  Defendants forced a 14 year old immigrant from...\n",
       "1039       Minor  Defendants forced a 14 year old immigrant from...\n",
       "644        Minor  Victim ran away from home and was recruited by...\n",
       "780        Labor  The defendants used a Mexican women and a Sri ...\n",
       "568        Labor  Coleman Ghanas deputy minister of finance recr...\n",
       "635        Labor  I started working 24 hours straight and was ge...\n",
       "1287  Notrelated  Work life balance is OK but not great Im sorry...\n",
       "558   Notrelated  stressbad managersmean and rude people  they w..."
      ]
     },
     "execution_count": 488,
     "metadata": {},
     "output_type": "execute_result"
    }
   ],
   "source": [
    "find_most_similar_situation(text00,data_combined)"
   ]
  },
  {
   "cell_type": "code",
   "execution_count": null,
   "metadata": {},
   "outputs": [],
   "source": []
  },
  {
   "cell_type": "code",
   "execution_count": null,
   "metadata": {},
   "outputs": [],
   "source": []
  }
 ],
 "metadata": {
  "kernelspec": {
   "display_name": "Python 3",
   "language": "python",
   "name": "python3"
  },
  "language_info": {
   "codemirror_mode": {
    "name": "ipython",
    "version": 3
   },
   "file_extension": ".py",
   "mimetype": "text/x-python",
   "name": "python",
   "nbconvert_exporter": "python",
   "pygments_lexer": "ipython3",
   "version": "3.7.4"
  }
 },
 "nbformat": 4,
 "nbformat_minor": 2
}
